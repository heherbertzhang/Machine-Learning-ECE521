{
 "cells": [
  {
   "cell_type": "code",
   "execution_count": 8,
   "metadata": {},
   "outputs": [],
   "source": [
    "import numpy as np\n",
    "with np.load(\"notMNIST.npz\") as data :\n",
    "    Data, Target = data [\"images\"], data[\"labels\"]\n",
    "    posClass = 2\n",
    "    negClass = 9\n",
    "    dataIndx = (Target==posClass) + (Target==negClass)\n",
    "    Data = Data[dataIndx]/255.\n",
    "    Target = Target[dataIndx].reshape(-1, 1)\n",
    "    Target[Target==posClass] = 1\n",
    "    Target[Target==negClass] = 0\n",
    "    np.random.seed(521)\n",
    "    randIndx = np.arange(len(Data))\n",
    "    np.random.shuffle(randIndx)\n",
    "    Data, Target = Data[randIndx], Target[randIndx]\n",
    "    trainData, trainTarget = Data[:3500], Target[:3500]\n",
    "    validData, validTarget = Data[3500:3600], Target[3500:3600]\n",
    "    testData, testTarget = Data[3600:], Target[3600:]"
   ]
  },
  {
   "cell_type": "code",
   "execution_count": 6,
   "metadata": {},
   "outputs": [],
   "source": [
    "import tensorflow as tf\n",
    "def SGD_loss(N,NUM_INPUT_FEATURES,decay_scale):\n",
    "    #initializer\n",
    "    weight_init = tf.contrib.layers.xavier_initializer(uniform=True)\n",
    "    const_init = tf.constant_initializer(0.01)\n",
    "    #input placeholder\n",
    "    X = tf.placeholder(tf.float32, [N,NUM_INPUT_FEATURES], name='X')\n",
    "    y = tf.placeholder(tf.float32, [N,1], name='y')\n",
    "    #weight bias\n",
    "    W1 = tf.get_variable(\"W1\",shape=[NUM_INPUT_FEATURES,1],initializer=weight_init)\n",
    "    b1  = tf.get_variable(\"b1\",shape=[1,1],initializer=const_init)#broadcast\n",
    "    #hidden layer\n",
    "    hidden_out = tf.add(tf.matmul(X, W1), b1)\n",
    "    y_=hidden_out\n",
    "    #loss\n",
    "    weight_decay = decay_scale/2*tf.matmul(tf.transpose(W1),(W1))\n",
    "    loss = l2_loss(y_-y)/N+weight_decay\n",
    "    return loss"
   ]
  },
  {
   "cell_type": "code",
   "execution_count": null,
   "metadata": {},
   "outputs": [],
   "source": [
    "def train(trainning_data,trainning_label,loss,learnning_rate,batch_size=500,steps=20000):\n",
    "    x, y = tf.train.slice_input_producer([trainning_data, trainning_label], num_epochs=None)\n",
    "    X, Y = tf.train.batch([x, y], batch_size=batch_size)\n",
    "    optimizer = tf.train.GradientDescentOptimizer(learnning_rate)\n",
    "    train_op = optimizer.minimize(loss)\n",
    "    \n",
    "    for step in range(steps):\n",
    "        sess.run(train_op)\n",
    "        \n"
   ]
  }
 ],
 "metadata": {
  "kernelspec": {
   "display_name": "Python 3",
   "language": "python",
   "name": "python3"
  },
  "language_info": {
   "codemirror_mode": {
    "name": "ipython",
    "version": 3
   },
   "file_extension": ".py",
   "mimetype": "text/x-python",
   "name": "python",
   "nbconvert_exporter": "python",
   "pygments_lexer": "ipython3",
   "version": "3.6.4"
  }
 },
 "nbformat": 4,
 "nbformat_minor": 2
}
